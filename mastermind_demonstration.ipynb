{
 "cells": [
  {
   "cell_type": "markdown",
   "metadata": {},
   "source": [
    "# Projet de résolution de problèmes : Satisfaction de contraintes pour le Master Mind"
   ]
  },
  {
   "cell_type": "markdown",
   "metadata": {},
   "source": [
    "Veuillez faire varier les paramètres décrits ci-dessous, les occurrences doubles ne marchent qu'avec l'algorithme $A4$. Exécutez les deux premières cellules de codes permettant d'importer le fichier du jeu nécessaire, et des fonctions permettant de générer des codes aléatoirement .\n",
    "\n",
    "Les résultats affichés correspondent à la liste des tentatives, le temps de résolution, le nombre de tentatives, et le nombre de noeuds visités dans l'arbre d'exploration (égale à 0 si c'est un algorithme génétique en revanche)."
   ]
  },
  {
   "cell_type": "markdown",
   "metadata": {},
   "source": [
    "Description des paramètres à varier à votre guise :\n",
    "\n",
    "$n$ : nombre de variables sachant que $p = 2 \\times n$\n"
   ]
  },
  {
   "cell_type": "markdown",
   "metadata": {},
   "source": [
    "$algorithme$ : choisir l'algorithme\n",
    "\n",
    "1 : A1 : engendrer et tester\n",
    "\n",
    "2 : A2 : retour arrière chronologique sans forward checking\n",
    "\n",
    "3 : A3 : retour arrière chronologique AVEC forward checking SANS doublons\n",
    "\n",
    "4 : A4 : retour arrière chronologique AVEC forward checking AVEC doublons\n",
    "\n",
    "5 : A5 : retour arrière chronologique AVEC forward checking SANS doublon, AMELIORE\n",
    "\n",
    "6 : A6 : Las Vegas naïf\n",
    "\n",
    "7 : A7 : A5 version Las Vegas\n",
    "\n",
    "8 : A8 : algorithme génétique\n",
    "\n",
    "9 : A9 : algorithme hybride"
   ]
  },
  {
   "cell_type": "markdown",
   "metadata": {},
   "source": [
    "$strategie\\_algo\\_genetique$ : choisir la façon de choisir la prochaine tentative pour l'algorithme génétique\n",
    "\n",
    "0 : random\n",
    "\n",
    "1 : Choix du code présentant le PLUS de similarité avec les autres codes compatibles\n",
    "\n",
    "2 : Choix du code présentant le MOINS de similarité avec les autres codes compatibles\n",
    "\n",
    "3 : Estimation du nombre de codes compatibles restants (MOINS) si un code était tenté\n",
    "\n",
    "4 : Estimation du nombre de codes compatibles restants (PLUS) si un code était tenté"
   ]
  },
  {
   "cell_type": "markdown",
   "metadata": {},
   "source": [
    "$maxsize$ : taille de $E$\n",
    "\n",
    "$maxgen$ : nombre de générations\n",
    "\n",
    "$popsize$ : taille de la population\n",
    "\n",
    "$CXPB$ : probabilité de cross over\n",
    "\n",
    "$MUTPB$ : probabilité de mutation\n",
    "\n",
    "$longueur\\_S$ : taille de la sélection $S$ dans $E$ pour la méthode de l'estimation du nombre de codes compatibles restants si un code était tenté, attention à ne pas dépasser $maxsize$"
   ]
  },
  {
   "cell_type": "markdown",
   "metadata": {},
   "source": [
    "## Exécutez les deux cellules ci-dessous"
   ]
  },
  {
   "cell_type": "code",
   "execution_count": 1,
   "metadata": {},
   "outputs": [],
   "source": [
    "import sys\n",
    "sys.path.append('../')\n",
    "import algorithmes\n",
    "from algorithmes import mastermind_demonstration as md\n",
    "import copy\n",
    "import random\n",
    "import time\n",
    "%reload_ext autoreload\n",
    "%autoreload 2\n",
    "D = ['0','1','2','3','4','5','6','7','8','9','A','B','C','D','E','F','G','H','I','J','K','L','M','N','O','P','Q','R','S','T','U','V','W','X','Y','Z']"
   ]
  },
  {
   "cell_type": "code",
   "execution_count": 2,
   "metadata": {},
   "outputs": [],
   "source": [
    "def create_code_secret_random_sans_doublon(n):\n",
    "    Dp = []\n",
    "    for i in range(n*2):\n",
    "        Dp.append(D[i])\n",
    "    code_secret = []\n",
    "    for i in range(n):\n",
    "        temp = random.choice(Dp)\n",
    "        code_secret.append(temp)\n",
    "        Dp.remove(temp)\n",
    "    return code_secret\n",
    "\n",
    "def create_code_secret_random_avec_doublon(n):\n",
    "    Dp = []\n",
    "    for i in range(n*2):\n",
    "        Dp.append(D[i])\n",
    "    code_secret = []\n",
    "    temp_doublons = []\n",
    "    for i in range(n):\n",
    "        temp = random.choice(Dp)\n",
    "        if temp in temp_doublons:\n",
    "            Dp.remove(temp)\n",
    "        else:\n",
    "            temp_doublons.append(temp)\n",
    "        code_secret.append(temp)\n",
    "    return code_secret\n",
    "        \n",
    "def create_premiere_tentative_random_sans_doublon(n):\n",
    "    Dp = []\n",
    "    for i in range(n*2):\n",
    "        Dp.append(D[i])\n",
    "    code_tentative = {}\n",
    "    for i in range(n):\n",
    "        temp = random.choice(Dp)\n",
    "        code_tentative[i] = temp\n",
    "        Dp.remove(temp)\n",
    "    return code_tentative\n",
    "\n",
    "def create_premiere_tentative_random_avec_doublon(n):\n",
    "    Dp = []\n",
    "    for i in range(n*2):\n",
    "        Dp.append(D[i])\n",
    "    code_tentative = {}\n",
    "    temp_doublons = []\n",
    "    for i in range(n):\n",
    "        temp = random.choice(Dp)\n",
    "        if temp in temp_doublons:\n",
    "            Dp.remove(temp)\n",
    "        else:\n",
    "            temp_doublons.append(temp)\n",
    "        code_tentative[i] = temp\n",
    "    return code_tentative"
   ]
  },
  {
   "cell_type": "markdown",
   "metadata": {},
   "source": [
    "## I. Ici, vous pouvez choisir vous-même le code secret et la première tentative."
   ]
  },
  {
   "cell_type": "code",
   "execution_count": 25,
   "metadata": {},
   "outputs": [
    {
     "name": "stdout",
     "output_type": "stream",
     "text": [
      "Tentative 1 : ['4', '5', '6', '7'] bien placés : 0 mal placés : 1\n",
      "Tentative 2 : ['0', '1', '2', '4'] bien placés : 1 mal placés : 2\n",
      "Tentative 3 : ['0', '2', '1', '5'] bien placés : 1 mal placés : 1\n",
      "Tentative 4 : ['0', '3', '4', '1'] bien placés : 0 mal placés : 3\n",
      "##############################################################################\n",
      "Résumé de toutes les tentatives :\n",
      "Tentative 1 : ['4', '5', '6', '7'] bien placés : 0 mal placés : 1\n",
      "Tentative 2 : ['0', '1', '2', '4'] bien placés : 1 mal placés : 2\n",
      "Tentative 3 : ['0', '2', '1', '5'] bien placés : 1 mal placés : 1\n",
      "Tentative 4 : ['0', '3', '4', '1'] bien placés : 0 mal placés : 3\n",
      "Tentative 5 : ['1', '2', '3', '4'] bien placés : 4 mal placés : 0\n",
      "##############################################################################\n",
      "################################## VICTOIRE ##################################\n",
      "La réponse était bien : ['1', '2', '3', '4']\n",
      "Victoire au bout de 5 tentative(s).\n",
      "Temps d'exécution : 0.07399821281433105 secondes\n",
      "Nombre de tentatives : 5\n",
      "Nombre de noeuds visités au total : 1289\n"
     ]
    }
   ],
   "source": [
    "n = 4 # faire attention à n lors des modifications du code secret de la premiere tentative\n",
    "algorithme = 1\n",
    "code_secret = ['1','2','3','4'] # modifiez le code secret à votre guise\n",
    "premiere_tentative_liste = ['4','5','6','7'] # modifiez la premiere tentative à votre guise\n",
    "\n",
    "# inutiles si CSP\n",
    "strategie_algo_genetique = 1\n",
    "maxsize = 60\n",
    "maxgen = 70\n",
    "popsize = 70\n",
    "CXPB = 0.8\n",
    "MUTPB = 0.8\n",
    "longueur_S = 60\n",
    "\n",
    "premiere_tentative_dico = {}\n",
    "for i in range(len(premiere_tentative_liste)):\n",
    "    premiere_tentative_dico[i] = premiere_tentative_liste[i]\n",
    "\n",
    "start_time = time.time()\n",
    "nb_tentatives,nb_noeuds = md.run(n,algorithme,code_secret,premiere_tentative_dico,strategie_algo_genetique,maxsize,maxgen,popsize,CXPB,MUTPB,longueur_S)\n",
    "print(\"Temps d'exécution :\",time.time() - start_time,\"secondes\")\n",
    "\n",
    "print(\"Nombre de tentatives :\",nb_tentatives)\n",
    "print(\"Nombre de noeuds visités au total :\",nb_noeuds)"
   ]
  },
  {
   "cell_type": "markdown",
   "metadata": {},
   "source": [
    "## II. Ici, le code secret et la première tentative sont générés aléatoirement"
   ]
  },
  {
   "cell_type": "code",
   "execution_count": 4,
   "metadata": {},
   "outputs": [
    {
     "name": "stdout",
     "output_type": "stream",
     "text": [
      "code_secret : ['3', '0', '1', '2']\n",
      "premiere tentative : ['7', '4', '6', '5']\n",
      "Tentative 1 : ['7', '4', '6', '5'] bien placés : 0 mal placés : 0\n",
      "Tentative 2 : ['0', '1', '2', '3'] bien placés : 0 mal placés : 4\n",
      "Tentative 3 : ['1', '0', '3', '2'] bien placés : 2 mal placés : 2\n",
      "Tentative 4 : ['1', '2', '3', '0'] bien placés : 0 mal placés : 4\n",
      "##############################################################################\n",
      "Résumé de toutes les tentatives :\n",
      "Tentative 1 : ['7', '4', '6', '5'] bien placés : 0 mal placés : 0\n",
      "Tentative 2 : ['0', '1', '2', '3'] bien placés : 0 mal placés : 4\n",
      "Tentative 3 : ['1', '0', '3', '2'] bien placés : 2 mal placés : 2\n",
      "Tentative 4 : ['1', '2', '3', '0'] bien placés : 0 mal placés : 4\n",
      "Tentative 5 : ['3', '0', '1', '2'] bien placés : 4 mal placés : 0\n",
      "##############################################################################\n",
      "################################## VICTOIRE ##################################\n",
      "La réponse était bien : ['3', '0', '1', '2']\n",
      "Victoire au bout de 5 tentative(s).\n",
      "Temps d'exécution : 0.12369990348815918 secondes\n",
      "Nombre de tentatives : 5\n",
      "Nombre de noeuds visités au total : 3248\n"
     ]
    }
   ],
   "source": [
    "n = 4\n",
    "algorithme = 1 # si = 4 il faut décommenter les lignes en-dessous\n",
    "code_secret = create_code_secret_random_sans_doublon(n)\n",
    "premiere_tentative_dico = create_premiere_tentative_random_sans_doublon(n)\n",
    "# à décommentez la ligne ci-dessous pour générer des codes avec des doublons\n",
    "# et mettre algorithme = 4 sinon cela ne marche pas\n",
    "#code_secret = create_code_secret_random_avec_doublon(n) # ne marche qu'avec A4\n",
    "#premiere_tentative_dico = create_premiere_tentative_random_avec_doublon(n) # ne marche qu'avec A4\n",
    "\n",
    "# inutiles si CSP\n",
    "strategie_algo_genetique = 1\n",
    "maxsize = 60\n",
    "maxgen = 70\n",
    "popsize = 70\n",
    "CXPB = 0.8\n",
    "MUTPB = 0.8\n",
    "longueur_S = 60\n",
    "\n",
    "premiere_tentative_liste = []\n",
    "for i in range(len(premiere_tentative_dico)):\n",
    "    premiere_tentative_liste.append(premiere_tentative_dico[i])\n",
    "print(\"code_secret :\",code_secret)\n",
    "print(\"premiere tentative :\", premiere_tentative_liste)\n",
    "\n",
    "start_time = time.time()\n",
    "nb_tentatives,nb_noeuds = md.run(n,algorithme,code_secret,premiere_tentative_dico,strategie_algo_genetique,maxsize,maxgen,popsize,CXPB,MUTPB,longueur_S)\n",
    "print(\"Temps d'exécution :\",time.time() - start_time,\"secondes\")\n",
    "\n",
    "print(\"Nombre de tentatives :\",nb_tentatives)\n",
    "print(\"Nombre de noeuds visités au total :\",nb_noeuds)"
   ]
  },
  {
   "cell_type": "markdown",
   "metadata": {},
   "source": []
  },
  {
   "cell_type": "code",
   "execution_count": null,
   "metadata": {},
   "outputs": [],
   "source": []
  }
 ],
 "metadata": {
  "kernelspec": {
   "display_name": "Python 3",
   "language": "python",
   "name": "python3"
  },
  "language_info": {
   "codemirror_mode": {
    "name": "ipython",
    "version": 3
   },
   "file_extension": ".py",
   "mimetype": "text/x-python",
   "name": "python",
   "nbconvert_exporter": "python",
   "pygments_lexer": "ipython3",
   "version": "3.7.6"
  }
 },
 "nbformat": 4,
 "nbformat_minor": 4
}
